{
  "nbformat": 4,
  "nbformat_minor": 0,
  "metadata": {
    "colab": {
      "provenance": []
    },
    "kernelspec": {
      "name": "python3",
      "display_name": "Python 3"
    },
    "language_info": {
      "name": "python"
    }
  },
  "cells": [
    {
      "cell_type": "code",
      "execution_count": 17,
      "metadata": {
        "id": "BiUuiozpYgtt"
      },
      "outputs": [],
      "source": [
        "#1. Explain the different types of data (qualitative and quantitative) and provide examples of each. Discuss\n",
        "# nominal, ordinal, interval, and ratio scales"
      ]
    },
    {
      "cell_type": "code",
      "source": [
        "# #ans:Types of data\n",
        "# 1.Qualitative data:\n",
        "# -descriptive information that cannot be measured in numbers.\n",
        "# -example-colors,location,gender,grades etc..\n",
        "# 2.Qunatitative data:\n",
        "# -Numerical infromation that can be measured or counted.\n",
        "# -example:height,weight salary,no of person\n",
        "\n",
        "# Scales of measurement:\n",
        "# 1 Nominal scale:\n",
        "# -categorizes data without any order\n",
        "# -example:gender(male,female),color(red,green blue)\n",
        "# 2 Ordinal scale:\n",
        "# -categorizes data with a specific order but no fixed interval between categories\n",
        "# -example:rank(1st,2nd,3rd),grade(A,B,C) etc\n",
        "\n",
        "# 3 Interval scale:\n",
        "# -categorizes data with order and equal intervals,but no true zero point.\n",
        "# -example:temperature in celsius (10,-10,0)C,IQ scores.\n",
        "\n",
        "# 4 Ratio Scale:\n",
        "# -categorizes data with order, equal intervals, and a true zero point.\n",
        "# -example: height(0 cm means no height),weight(0 kg means no weight),age."
      ],
      "metadata": {
        "id": "uispaBzEYsa6"
      },
      "execution_count": 18,
      "outputs": []
    },
    {
      "cell_type": "code",
      "source": [
        "#2. What are the measures of central tendency, and when should you use each? Discuss the mean, median,\n",
        "# and mode with examples and situations where each is appropriate."
      ],
      "metadata": {
        "id": "1w-wl0IsYsdd"
      },
      "execution_count": 19,
      "outputs": []
    },
    {
      "cell_type": "code",
      "source": [
        "# #ans: Measures of central tendency:\n",
        "# -Mean:\n",
        "# -the average of all data points.\n",
        "# -example: Average test score of a class\n",
        "# -when to use:best for data withour extreme outliers.\n",
        "\n",
        "# Median:\n",
        "# -the middle value when data points are ordered.\n",
        "# -example: medain house price in a distribution\n",
        "# -when to use:for skewed data or data with outliers.\n",
        "\n",
        "# Mode:\n",
        "# -the most frequently occuring value.\n",
        "# -example: most common shoe size sold in a Store\n",
        "# -when to use: useful for categorical data\n"
      ],
      "metadata": {
        "id": "ARtmAENCYshc"
      },
      "execution_count": 20,
      "outputs": []
    },
    {
      "cell_type": "code",
      "source": [
        "#3. Explain the concept of dispersion. How do variance and standard deviation measure the spread of data?"
      ],
      "metadata": {
        "id": "Q2UuA-90YsnA"
      },
      "execution_count": 21,
      "outputs": []
    },
    {
      "cell_type": "code",
      "source": [
        "#  Despersion:\n",
        "#  -dispersion refers to how spread out the data points in a dataset are it helps us understand the\n",
        "#  -variability or consistency within the data.\n",
        "\n",
        "#  Variance and standard deviation\n",
        "# 1.Variance\n",
        "# -Measures the average squared difference from the mean.\n",
        "# -example:If students test scores are close to the average score, the variance is low.\n",
        "# -use: Helps in understanding the overall spread of the data.\n",
        "# 2.Standard Deviation:\n",
        "# -The square root of the variance,providing a measure of spread in the same units as the data.\n",
        "# -example:if the average height of a group is 170cm with a average deviation of 5cm,then most of the people are between 165cm and 175cm.\n",
        "# -use:more intuitive than varaince,as it is in the same units as the data.\n"
      ],
      "metadata": {
        "id": "yEA-TcbvYsrO"
      },
      "execution_count": 22,
      "outputs": []
    },
    {
      "cell_type": "code",
      "source": [
        "#4. What is a box plot, and what can it tell you about the distribution of data?"
      ],
      "metadata": {
        "id": "PyRe7CvPYst2"
      },
      "execution_count": 23,
      "outputs": []
    },
    {
      "cell_type": "code",
      "source": [
        "# ans:Box Plot:\n",
        "# -A box plot is a visual tool that shows the distribution of a dataset. It highlights:\n",
        "\n",
        "# Central Tendency: the median(middle value of the distribution).\n",
        "# Spread: the interquartile range(IQR), showing the middle 50% of data.\n",
        "# Skewness: Indicates if data is skewed left or right.\n",
        "# Outliers: Points outside the typical range.\n",
        "# It's useful for comparing distributions and spotting patterns or outliers.\n",
        ""
      ],
      "metadata": {
        "id": "awpYihHpYsw2"
      },
      "execution_count": 24,
      "outputs": []
    },
    {
      "cell_type": "code",
      "source": [
        "#5. Discuss the role of random sampling in making inferences about populations.\n"
      ],
      "metadata": {
        "id": "TxuM8RMIYszt"
      },
      "execution_count": 25,
      "outputs": []
    },
    {
      "cell_type": "code",
      "source": [
        "\n",
        "# ans: Random Sampling Summary:\n",
        "# -Random sampling ensures each member of a population has an equal chance of being selected,making the sample\n",
        "#  representative and reducing bias.\n",
        "#  example: To find the average height of adults in city, randomly selecting individuals helps ensure the result\n",
        "#  reflect the true average height of the entire city's adult population."
      ],
      "metadata": {
        "id": "guLtssjZh3mz"
      },
      "execution_count": 26,
      "outputs": []
    },
    {
      "cell_type": "code",
      "source": [
        "#6. Explain the concept of skewness and its types. How does skewness affect the interpretation of data?"
      ],
      "metadata": {
        "id": "YUtsaJnTh3pk"
      },
      "execution_count": 27,
      "outputs": []
    },
    {
      "cell_type": "code",
      "source": [
        "# Skewness:\n",
        "# -skewness mesaures the assymmetry of a data distribution\n",
        "# Types of Skewness:\n",
        "# 1. Positive Skew(right skew):\n",
        "# -The right tail is longer\n",
        "# -example:Income distribution where most people earn less, but a few earn much more.\n",
        "# 2.Negative Skew(left skew)\n",
        "# -the left tail is longer\n",
        "# -example: age at death, where most people live to an older age,but a few die young.\n",
        "# 3.Zero Skew:\n",
        "# -The distribution is symmetrical.\n",
        "# -example: Heigths of adult males where most values are aroung the average.\n",
        "\n",
        "# Impact on Data Interpretation:\n",
        "# Positive Skew: Mean>Median ,it indicates higher values are more spread out.\n",
        "# Negative Skew: Mean<Median,it indicates lower values are more spread out.\n",
        "# Zero Skew:mean=median,Indicates a balanced distribution.\n"
      ],
      "metadata": {
        "id": "GdXQb-0Rh3tp"
      },
      "execution_count": 28,
      "outputs": []
    },
    {
      "cell_type": "code",
      "source": [
        "#7. What is the interquartile range (IQR), and how is it used to detect outliers?"
      ],
      "metadata": {
        "id": "f5WcPkhbqhsA"
      },
      "execution_count": 29,
      "outputs": []
    },
    {
      "cell_type": "code",
      "source": [
        "# # Interquartile Range(IQR):\n",
        "# -it measures the spread of the middle 50% of data. It is calculated as the difference between third quartile(Q3) and first quartile(Q1)\n",
        "# # Detecting Outliers:\n",
        "# -Formula:outliers are the values that are either below (Q1-1.5*IQR) or above (Q3+1.5*IQR)"
      ],
      "metadata": {
        "id": "lSnPakuhqhua"
      },
      "execution_count": 30,
      "outputs": []
    },
    {
      "cell_type": "code",
      "source": [
        "#8. Discuss the conditions under which the binomial distribution is used?"
      ],
      "metadata": {
        "id": "WV2NJ7EAqhzI"
      },
      "execution_count": 31,
      "outputs": []
    },
    {
      "cell_type": "code",
      "source": [
        "# The binomial distribution is used when the following conditions are met:\n",
        "#  1.Fixed Number of Trials: there is a fixed number of trials(like flipping a coin 10 times)\n",
        "#  2.Two possible outcomes: each trail has only two outcomes,often called success and failure\n",
        "#  3.Independent Trials:the outcome of one trail does not affect the others.\n",
        "#  4.Constant Probability: the probability of success is the same for each trail(ex:p(H) is always 0.5)"
      ],
      "metadata": {
        "id": "wnTjiZ8hwUHR"
      },
      "execution_count": 32,
      "outputs": []
    },
    {
      "cell_type": "code",
      "source": [
        "#9. Explain the properties of the normal distribution and the empirical rule (68-95-99.7 rule)."
      ],
      "metadata": {
        "id": "wPhILS9xznJh"
      },
      "execution_count": 33,
      "outputs": []
    },
    {
      "cell_type": "code",
      "source": [
        "#ans: Normal Distribution:\n",
        "# Properties:\n",
        "# -symmetrical: the left and right sides are mirror images.\n",
        "# -Bell-shaped: most data points cluster around the mean.\n",
        "# -mean,median,mode: all are equal and located at the center.\n",
        "\n",
        "# Empirical Rule(68-95-99.7):\n",
        "# -68%: about 68% of data falls within 1 standard deviation of the mean.\n",
        "# -95%: about 95% of data falls within 2 standard deviations.\n",
        "# -99.7%:about 99.7% of data falls within 3 standard deviations."
      ],
      "metadata": {
        "id": "yCLF-b9Aqh2-"
      },
      "execution_count": 34,
      "outputs": []
    },
    {
      "cell_type": "code",
      "source": [
        "# 10. Provide a real-life example of a Poisson process and calculate the probability for a specific event."
      ],
      "metadata": {
        "id": "lU2j_pniqh7x"
      },
      "execution_count": 35,
      "outputs": []
    },
    {
      "cell_type": "code",
      "source": [
        " # Example:\n",
        "# A Poisson process can be used to model the number of customer arrivals at a bank. Suppose on average,\n",
        "# 5 customers arrive per hour.\n",
        "# #questios: what is the probability that exactly 3 customers will arrive in the next hour?\n",
        "# #Forumla :\n",
        "# P(X=k)=(lambda**e**(-k))/k;\n",
        "# where lambda=5 (average rate),\n",
        "# k=3(number of customers)\n",
        "# e is Euler's number(2.718 approx)\n",
        "\n",
        "# calculation:\n",
        "# P(X=3)=(5**3*(2.718**(-5)))/3!, which comes out to be 0.143\n",
        "\n",
        "# answer: the probability on excatly next 3 customers arrivivng in next hour is aprrox. 0.14"
      ],
      "metadata": {
        "id": "3xcQMn9t8yjn"
      },
      "execution_count": 36,
      "outputs": []
    },
    {
      "cell_type": "code",
      "source": [
        "(5**3*(2.718**(-5)))/(3*2*1)"
      ],
      "metadata": {
        "colab": {
          "base_uri": "https://localhost:8080/"
        },
        "id": "dVqUFaXg-6SH",
        "outputId": "3321eb1d-6a55-4d64-f753-a2f4ee319ef7"
      },
      "execution_count": 37,
      "outputs": [
        {
          "output_type": "execute_result",
          "data": {
            "text/plain": [
              "0.14044668750634245"
            ]
          },
          "metadata": {},
          "execution_count": 37
        }
      ]
    },
    {
      "cell_type": "code",
      "source": [
        "#11. Explain what a random variable is and differentiate between discrete and continuous random variables?"
      ],
      "metadata": {
        "id": "GWeSbO8Y2Een"
      },
      "execution_count": 38,
      "outputs": []
    },
    {
      "cell_type": "code",
      "source": [
        "#  #Random Variable:\n",
        "# -A random variable is a way to assign a number to each possible outcome of a random event.\n",
        "# -example: if you roll a die, you can assign numbers 1 to 6 to the possible outcomes.\n",
        "#  Types of Random Variables:\n",
        "#  There are two main types of random variables:\n",
        "#  1.Discrete Random variables:\n",
        "#  -these take on specific,separate Values.\n",
        "#  -example: the number of heads when flipping a coin three times(0,1,2,or 3)\n",
        "#  2.Continuous Random Variables:\n",
        "#  - these can take on any value within a range.\n",
        "#  -example: the exact height of students in a class(150.5cm,170.2cm etc..)"
      ],
      "metadata": {
        "id": "8BxL0rxc2Eif"
      },
      "execution_count": 39,
      "outputs": []
    },
    {
      "cell_type": "code",
      "source": [
        "#12. Provide an example dataset, calculate both covariance and correlation, and interpret the results.\n"
      ],
      "metadata": {
        "id": "wO03kzEpqiB8"
      },
      "execution_count": 40,
      "outputs": []
    },
    {
      "cell_type": "code",
      "source": [
        "import pandas as pd\n",
        "import numpy as np\n",
        "\n",
        "# Example dataset\n",
        "data = {\n",
        "    'X': [10, 20, 30, 40, 50],\n",
        "    'Y': [15, 25, 35, 45, 55]\n",
        "}\n",
        "\n",
        "df = pd.DataFrame(data)\n",
        "print(\"Dataset:\")\n",
        "print(df)\n",
        "\n",
        "\n",
        "cov_matrix = np.cov(df['X'], df['Y']) # covariance matrix\n",
        "print(\"Covariance matrix:\")\n",
        "print(cov_matrix)\n",
        "\n",
        "\n",
        "cov_xy = cov_matrix[0, 1]# finding covariance value\n",
        "print(\"Covariance between X and Y:\", cov_xy)\n",
        "\n",
        "\n",
        "corr_matrix = df.corr() #finding correlation matrix\n",
        "print(\"Correlation matrix:\")\n",
        "print(corr_matrix)\n",
        "\n",
        "corr_xy = corr_matrix.loc['X', 'Y'] # finding correlation value\n",
        "print(\"Correlation between X and Y:\", corr_xy)\n"
      ],
      "metadata": {
        "colab": {
          "base_uri": "https://localhost:8080/"
        },
        "id": "YK0XJgc7qiEq",
        "outputId": "1de4e457-3aae-4f66-8088-ce8b399d912e"
      },
      "execution_count": 41,
      "outputs": [
        {
          "output_type": "stream",
          "name": "stdout",
          "text": [
            "Dataset:\n",
            "    X   Y\n",
            "0  10  15\n",
            "1  20  25\n",
            "2  30  35\n",
            "3  40  45\n",
            "4  50  55\n",
            "Covariance matrix:\n",
            "[[250. 250.]\n",
            " [250. 250.]]\n",
            "Covariance between X and Y: 250.0\n",
            "Correlation matrix:\n",
            "     X    Y\n",
            "X  1.0  1.0\n",
            "Y  1.0  1.0\n",
            "Correlation between X and Y: 1.0\n"
          ]
        }
      ]
    },
    {
      "cell_type": "code",
      "source": [
        "# #Interpretation:\n",
        "# Covariance:\n",
        "# -a positive covariance(e.g 250) indicates that as X increases,Y also increases\n",
        "# -a negative covairance(e.g-10) indicates that as X increases Y decreases.\n",
        "# Correlation:\n",
        "# -a correlation close to 1 indicates a strong positive linear relationship between X and Y.\n",
        "# -a correlation close to -1 indicates a strong negative linear relationship between X and Y.\n",
        "# -a correlation around 0 would indicate no linear relationship."
      ],
      "metadata": {
        "id": "wPqqDBC6qiHn"
      },
      "execution_count": 42,
      "outputs": []
    },
    {
      "cell_type": "code",
      "source": [],
      "metadata": {
        "id": "lsHaDfNMqiKz"
      },
      "execution_count": 42,
      "outputs": []
    },
    {
      "cell_type": "code",
      "source": [],
      "metadata": {
        "id": "0wWYDSylqiN_"
      },
      "execution_count": 42,
      "outputs": []
    }
  ]
}